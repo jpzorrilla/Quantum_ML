{
  "nbformat": 4,
  "nbformat_minor": 0,
  "metadata": {
    "colab": {
      "provenance": []
    },
    "kernelspec": {
      "name": "python3",
      "display_name": "Python 3"
    },
    "language_info": {
      "name": "python"
    }
  },
  "cells": [
    {
      "cell_type": "code",
      "execution_count": null,
      "metadata": {
        "id": "iBV4y2-xifgC"
      },
      "outputs": [],
      "source": [
        "!pip install pennylane > h"
      ]
    },
    {
      "cell_type": "markdown",
      "source": [
        "**Exercise 1**\n",
        "\n",
        "Given the following dataset:\n",
        "\n",
        "```python\n",
        "xs = np.array([-1.5, -1.3, -1.1, -0.9, -0.7, -0.5, -0.3, -0.1,  0.1,  0.3,  0.5, 0.7,  0.9,  1.1,  1.3,  1.5])\n",
        "ys = np.array([2.33, 2.98, 2.81, 2.17, 1.41, 0.74, 0.27, 0.03, 0.03, 0.27, 0.74, 1.41, 2.17, 2.81, 2.98, 2.33])\n",
        "```\n",
        "\n",
        "Generate a quantum model `circuit(x, params)` which output is able to predict the value of `y` .\n"
      ],
      "metadata": {
        "id": "j3an9JW9kFjl"
      }
    },
    {
      "cell_type": "markdown",
      "source": [
        "\n",
        "**Solution 1**\n",
        "\n",
        "First we can plot the dataset to visualise the distribution."
      ],
      "metadata": {
        "id": "Vwil4xqclIl9"
      }
    },
    {
      "cell_type": "code",
      "source": [
        "from pennylane import numpy as np\n",
        "import matplotlib.pyplot as plt\n",
        "\n",
        "xs = np.array([-1.5, -1.3, -1.1, -0.9, -0.7, -0.5, -0.3, -0.1,  0.1,  0.3,  0.5, 0.7,  0.9,  1.1,  1.3,  1.5])\n",
        "ys = np.array([2.33, 2.98, 2.81, 2.17, 1.41, 0.74, 0.27, 0.03, 0.03, 0.27, 0.74, 1.41, 2.17, 2.81, 2.98, 2.33])\n",
        "\n",
        "plt.scatter(xs, ys)"
      ],
      "metadata": {
        "colab": {
          "base_uri": "https://localhost:8080/",
          "height": 447
        },
        "id": "sSDq-SISjNka",
        "outputId": "2dde36f1-51c2-4ca5-cda1-4ea31ef7e824"
      },
      "execution_count": null,
      "outputs": [
        {
          "output_type": "execute_result",
          "data": {
            "text/plain": [
              "<matplotlib.collections.PathCollection at 0x784b06c69dd0>"
            ]
          },
          "metadata": {},
          "execution_count": 2
        },
        {
          "output_type": "display_data",
          "data": {
            "text/plain": [
              "<Figure size 640x480 with 1 Axes>"
            ],
            "image/png": "[encoded data removed]"
          },
          "metadata": {}
        }
      ]
    },
    {
      "cell_type": "markdown",
      "source": [
        "Now, we'll do a standard round of training, defining a loss function and applying a gradient descent.\n"
      ],
      "metadata": {
        "id": "S0QGzhq2lvCY"
      }
    },
    {
      "cell_type": "code",
      "source": [
        "import pennylane as qml\n",
        "\n",
        "dev = qml.device(\"default.qubit\", wires = 1)\n",
        "\n",
        "@qml.qnode(dev)\n",
        "def circuit(theta0, x):\n",
        "    qml.RY(theta0 * x, wires = 0)\n",
        "    return qml.expval(qml.PauliZ(wires = 0))\n",
        "\n",
        "def q_model(theta0, theta1, theta2, x):\n",
        "    return circuit(theta0, x) * theta1 + theta2\n",
        "\n",
        "def q_error(theta0, theta1, theta2):\n",
        "    er = 0\n",
        "    for x, y in zip(xs, ys):\n",
        "        er += (q_model(theta0, theta1, theta2, x) - y) ** 2\n",
        "    return np.sqrt(er) / len(xs)\n",
        "\n",
        "\n",
        "theta0, theta1, theta2 = np.random.rand(3) * np.pi\n",
        "gradient_fn_theta = qml.grad(q_error, argnum = [0,1,2])\n",
        "\n",
        "lr = 0.9\n",
        "\n",
        "for epoch in range(101):\n",
        "    gradiente = gradient_fn_theta(theta0, theta1, theta2)\n",
        "    theta0 = theta0 - lr*gradiente[0]\n",
        "    theta1 = theta1 - lr*gradiente[1]\n",
        "    theta2 = theta2 - lr*gradiente[2]\n",
        "    if epoch % 5 == 0:\n",
        "        print(\"epoch\", epoch, \"loss\", q_error(theta0, theta1, theta2))\n"
      ],
      "metadata": {
        "colab": {
          "base_uri": "https://localhost:8080/"
        },
        "id": "v5MxV38nj0gh",
        "outputId": "cdfb8e23-adca-4595-e0e6-c599aae733a8"
      },
      "execution_count": null,
      "outputs": [
        {
          "output_type": "stream",
          "name": "stdout",
          "text": [
            "epoch 0 loss 0.3806271050874542\n",
            "epoch 5 loss 0.2807816521740965\n",
            "epoch 10 loss 0.22182986311826491\n",
            "epoch 15 loss 0.1364806184909633\n",
            "epoch 20 loss 0.036245700894820695\n",
            "epoch 25 loss 0.03554440293106915\n",
            "epoch 30 loss 0.03554400604600265\n",
            "epoch 35 loss 0.035543922214142806\n",
            "epoch 40 loss 0.03554390066594461\n",
            "epoch 45 loss 0.035543895127393185\n",
            "epoch 50 loss 0.03554389370365355\n",
            "epoch 55 loss 0.035543893337685345\n",
            "epoch 60 loss 0.03554389324361172\n",
            "epoch 65 loss 0.035543893219430016\n",
            "epoch 70 loss 0.03554389321321406\n",
            "epoch 75 loss 0.03554389321161623\n",
            "epoch 80 loss 0.03554389321120549\n",
            "epoch 85 loss 0.03554389321109994\n",
            "epoch 90 loss 0.03554389321107278\n",
            "epoch 95 loss 0.0355438932110658\n",
            "epoch 100 loss 0.035543893211064055\n"
          ]
        }
      ]
    },
    {
      "cell_type": "markdown",
      "source": [
        "Once the model is trained, we can plot the dataset again to visualise the predictions."
      ],
      "metadata": {
        "id": "wJniSnfYrG4t"
      }
    },
    {
      "cell_type": "code",
      "source": [
        "preds = [q_model(theta0, theta1, theta2, x) for x in xs]\n",
        "\n",
        "plt.scatter(xs, ys)\n",
        "plt.scatter(xs, preds)\n"
      ],
      "metadata": {
        "colab": {
          "base_uri": "https://localhost:8080/",
          "height": 447
        },
        "id": "ofREY6makM94",
        "outputId": "d3231bb2-9ad9-4f91-f96e-351ffac3caa9"
      },
      "execution_count": null,
      "outputs": [
        {
          "output_type": "execute_result",
          "data": {
            "text/plain": [
              "<matplotlib.collections.PathCollection at 0x784b04bf4a50>"
            ]
          },
          "metadata": {},
          "execution_count": 4
        },
        {
          "output_type": "display_data",
          "data": {
            "text/plain": [
              "<Figure size 640x480 with 1 Axes>"
            ],
            "image/png": "[encoded data removed]"
          },
          "metadata": {}
        }
      ]
    },
    {
      "cell_type": "markdown",
      "source": [
        "**Exercise 2**\n",
        "\n",
        "Generalise the previous circuit to more qubits to solve a classification task for Iris dataset. Use the following script as an aid to generate the dataset.\n",
        "\n",
        "\n",
        "```python\n",
        "from sklearn.datasets import load_iris\n",
        "\n",
        "# Load the Iris dataset\n",
        "iris = load_iris()\n",
        "\n",
        "# Accesing to the features (data) and the labels (target) of the dataset\n",
        "X = iris.data  # features\n",
        "y = iris.target  # labels\n",
        "```\n",
        "Note: It is good practice to normalise the data between [0,2π] before introducing it into a quantum computer.|"
      ],
      "metadata": {
        "id": "rYvNU-y1rT4e"
      }
    },
    {
      "cell_type": "markdown",
      "source": [
        "# Solution"
      ],
      "metadata": {
        "id": "hh0SJv09ge3s"
      }
    },
    {
      "cell_type": "code",
      "source": [
        "import pennylane as qml\n",
        "from pennylane import numpy as np\n",
        "import matplotlib.pyplot as plt\n",
        "from sklearn.datasets import load_iris\n",
        "from sklearn.preprocessing import MinMaxScaler\n",
        "from sklearn.model_selection import train_test_split\n",
        "\n",
        "# 1. Load and normalize the Iris dataset\n",
        "iris = load_iris()\n",
        "X = iris.data                # shape (150, 4), four features per sample\n",
        "y = iris.target              # labels: 0, 1, 2 (three classes)\n",
        "n_features = X.shape[1]      # 4 features\n",
        "n_classes = len(np.unique(y))  # 3 classes\n",
        "\n",
        "# Normalize the features to [0, 2π]\n",
        "scaler = MinMaxScaler(feature_range=(0, 2 * np.pi))\n",
        "X_scaled = scaler.fit_transform(X)\n",
        "\n",
        "# Split into training and test subsets\n",
        "X_train, X_test, y_train, y_test = train_test_split(\n",
        "    X_scaled, y, test_size=0.2, random_state=42\n",
        ")\n",
        "\n",
        "# 2. Define a quantum circuit that will encode data and has variational layers\n",
        "# We use one qubit per feature (4 qubits total)\n",
        "n_qubits = n_features\n",
        "\n",
        "# Setup the quantum device with the required number of wires\n",
        "dev = qml.device(\"default.qubit\", wires=n_qubits)\n",
        "\n",
        "@qml.qnode(dev, interface=\"autograd\")\n",
        "def circuit(q_params, x):\n",
        "    \"\"\"\n",
        "    Encodes a 4-dimensional input \"x\" (already scaled to [0,2π])\n",
        "    into the quantum state by applying a RY rotation to each qubit.\n",
        "    Then, two layers of variational rotations and an entangling layer are applied.\n",
        "    Finally, we return the expectation values of PauliZ on each qubit.\n",
        "    \"\"\"\n",
        "    # --- Data encoding ---\n",
        "    for i in range(n_qubits):\n",
        "        qml.RY(x[i], wires=i)\n",
        "\n",
        "    # --- Variational layer 1 ---\n",
        "    for i in range(n_qubits):\n",
        "        qml.RY(q_params[0, i], wires=i)\n",
        "        qml.RZ(q_params[1, i], wires=i)\n",
        "\n",
        "    # --- Entangling layer ---\n",
        "    for i in range(n_qubits - 1):\n",
        "        qml.CNOT(wires=[i, i + 1])\n",
        "\n",
        "    # --- Variational layer 2 ---\n",
        "    for i in range(n_qubits):\n",
        "        qml.RY(q_params[2, i], wires=i)\n",
        "        qml.RZ(q_params[3, i], wires=i)\n",
        "\n",
        "    # Measure all qubits (each expectation lies in [-1, 1])\n",
        "    return [qml.expval(qml.PauliZ(i)) for i in range(n_qubits)]\n",
        "\n",
        "# 3. Build the hybrid quantum–classical model for classification\n",
        "\n",
        "def softmax(logits):\n",
        "    \"\"\"Compute softmax probabilities from logits.\"\"\"\n",
        "    exp_logits = np.exp(logits)\n",
        "    return exp_logits / np.sum(exp_logits)\n",
        "\n",
        "def q_model(q_params, W, b, x):\n",
        "    \"\"\"\n",
        "    First run the quantum circuit to obtain 4 expectation values.\n",
        "    Then apply a classical linear layer (matrix multiplication plus bias)\n",
        "    to yield 3 logits (one per Iris class).\n",
        "    Finally, convert the logits into probabilities using softmax.\n",
        "    \"\"\"\n",
        "    # Run the quantum circuit (data encoding + variational ansatz).\n",
        "    q_out = circuit(q_params, x)  # q_out is a list of length 4\n",
        "    q_out = np.array(q_out)\n",
        "\n",
        "    # Map quantum outputs to class logits via a linear transformation.\n",
        "    logits = np.dot(W, q_out) + b  # shape: (n_classes,)\n",
        "    probs = softmax(logits)\n",
        "    return probs\n",
        "\n",
        "def cost(q_params, W, b, X, Y):\n",
        "    \"\"\"\n",
        "    Define the average cross-entropy loss over the dataset.\n",
        "    For each data point we have a probability distribution from the circuit,\n",
        "    so the loss for the correct class is -log(probability for that class).\n",
        "    \"\"\"\n",
        "    loss = 0\n",
        "    for x, target in zip(X, Y):\n",
        "        probs = q_model(q_params, W, b, x)\n",
        "        # Add a small epsilon for numerical stability.\n",
        "        loss += -np.log(probs[target] + 1e-6)\n",
        "    return loss / len(X)\n",
        "\n",
        "def predict(q_params, W, b, x):\n",
        "    \"\"\"Predict the class label for a given data point.\"\"\"\n",
        "    probs = q_model(q_params, W, b, x)\n",
        "    return np.argmax(probs)\n",
        "\n",
        "def accuracy(q_params, W, b, X, Y):\n",
        "    \"\"\"Compute classification accuracy on a dataset.\"\"\"\n",
        "    correct = 0\n",
        "    for x, target in zip(X, Y):\n",
        "        if predict(q_params, W, b, x) == target:\n",
        "            correct += 1\n",
        "    return correct / len(X)\n",
        "\n",
        "# 4. Initialize the parameters\n",
        "\n",
        "# Quantum circuit parameters: Here we have 4 layers (2 variational layers, each with two parameters per qubit)\n",
        "q_params = np.random.uniform(0, np.pi, size=(4, n_qubits))\n",
        "\n",
        "# Classical linear layer parameters: map the 4 quantum outputs to 3 logits.\n",
        "W = np.random.normal(0, 1, size=(n_classes, n_qubits))\n",
        "b = np.random.normal(0, 1, size=(n_classes,))\n",
        "\n",
        "# 5. Set up a gradient function for all parameters (quantum + classical)\n",
        "grad_fn = qml.grad(cost, argnum=[0, 1, 2])\n",
        "\n",
        "# 6. Train the hybrid classifier\n",
        "lr = 0.1\n",
        "epochs = 100\n",
        "cost_history = []\n",
        "\n",
        "for epoch in range(epochs):\n",
        "    # Compute gradients for quantum parameters, weight matrix W, and bias b.\n",
        "    grads = grad_fn(q_params, W, b, X_train, y_train)\n",
        "\n",
        "    # Update parameters using gradient descent.\n",
        "    q_params = q_params - lr * grads[0]\n",
        "    W = W - lr * grads[1]\n",
        "    b = b - lr * grads[2]\n",
        "\n",
        "    current_cost = cost(q_params, W, b, X_train, y_train)\n",
        "    cost_history.append(current_cost)\n",
        "\n",
        "    if epoch % 10 == 0:\n",
        "        train_acc = accuracy(q_params, W, b, X_train, y_train)\n",
        "        print(f\"Epoch {epoch:3d}: Cost = {current_cost:.4f} | Train Accuracy = {train_acc:.2f}\")\n",
        "\n",
        "# 7. Evaluate the trained model on the test set\n",
        "test_acc = accuracy(q_params, W, b, X_test, y_test)\n",
        "print(f\"\\nTest Accuracy: {test_acc*100:.2f}%\")\n",
        "\n",
        "# 8. Plot the cost evolution during training\n",
        "plt.plot(cost_history)\n",
        "plt.xlabel(\"Epoch\")\n",
        "plt.ylabel(\"Cost\")\n",
        "plt.title(\"Training Cost Evolution\")\n",
        "plt.show()\n"
      ],
      "metadata": {
        "colab": {
          "base_uri": "https://localhost:8080/",
          "height": 680
        },
        "id": "48DzDH-ZjM7Q",
        "outputId": "7918df87-4f1e-4bf6-b9c6-2fc43ca1d27a"
      },
      "execution_count": null,
      "outputs": [
        {
          "output_type": "stream",
          "name": "stdout",
          "text": [
            "Epoch   0: Cost = 1.2092 | Train Accuracy = 0.42\n",
            "Epoch  10: Cost = 1.0957 | Train Accuracy = 0.42\n",
            "Epoch  20: Cost = 1.0229 | Train Accuracy = 0.44\n",
            "Epoch  30: Cost = 0.9744 | Train Accuracy = 0.57\n",
            "Epoch  40: Cost = 0.9407 | Train Accuracy = 0.65\n",
            "Epoch  50: Cost = 0.9160 | Train Accuracy = 0.68\n",
            "Epoch  60: Cost = 0.8972 | Train Accuracy = 0.71\n",
            "Epoch  70: Cost = 0.8822 | Train Accuracy = 0.72\n",
            "Epoch  80: Cost = 0.8697 | Train Accuracy = 0.72\n",
            "Epoch  90: Cost = 0.8590 | Train Accuracy = 0.72\n",
            "\n",
            "Test Accuracy: 90.00%\n"
          ]
        },
        {
          "output_type": "display_data",
          "data": {
            "text/plain": [
              "<Figure size 640x480 with 1 Axes>"
            ],
            "image/png": "[encoded data removed]"
          },
          "metadata": {}
        }
      ]
    }
  ]
}