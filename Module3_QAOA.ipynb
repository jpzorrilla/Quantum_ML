{
  "nbformat": 4,
  "nbformat_minor": 0,
  "metadata": {
    "colab": {
      "provenance": []
    },
    "kernelspec": {
      "name": "python3",
      "display_name": "Python 3"
    },
    "language_info": {
      "name": "python"
    }
  },
  "cells": [
    {
      "cell_type": "code",
      "execution_count": null,
      "metadata": {
        "id": "RPtMG025gWK9"
      },
      "outputs": [],
      "source": [
        "!pip install pennylane > h"
      ]
    },
    {
      "cell_type": "markdown",
      "source": [
        "**Exercise 1**\n",
        "\n",
        "In the example shown in the slides, we have tried to find the maximum energy value of the Hamiltonian:\n",
        "\n",
        "```python\n",
        "H = 0.1 * qml.PauliZ(0) - 2 qml.PauliZ(0) @ qml.PauliZ(1)\n",
        "```\n",
        "\n",
        "For this, we have used the parameters:\n",
        "\n",
        "```python\n",
        "gammas = [0.3, 0.4]\n",
        "betas = [0.2, 0.4]\n",
        "```\n",
        "\n",
        "Although we have previously obtained good results, there is still room for improvement. Perform a variational algorithm that finds the best `gammas`and `betas` parameters."
      ],
      "metadata": {
        "id": "tcSEfa8tgcnw"
      }
    },
    {
      "cell_type": "markdown",
      "source": [
        "**Solution 1**.\n",
        "\n",
        "First let's show the QAOA structure as seen:"
      ],
      "metadata": {
        "id": "1UYhQqumhuFu"
      }
    },
    {
      "cell_type": "code",
      "source": [
        "import pennylane as qml\n",
        "import matplotlib.pyplot as plt\n",
        "\n",
        "H = 0.1 * qml.PauliZ(0) - 2 * qml.PauliZ(1) @ qml.PauliZ(0)\n",
        "\n",
        "def exp(H, gamma):\n",
        "  qml.ApproxTimeEvolution(H, gamma, n = 1)\n",
        "\n",
        "\n",
        "def mixer(beta, wires):\n",
        "  for i in range(len(wires)):\n",
        "    qml.RX(2*beta, wires = wires[i])\n",
        "\n",
        "gammas = [0.3, 0.4]\n",
        "betas = [0.2, 0.4]\n",
        "\n",
        "dev = qml.device(\"default.qubit\", wires = [0,1])\n",
        "\n",
        "@qml.qnode(dev)\n",
        "def qaoa(H, gammas, betas):\n",
        "\n",
        "  for i in range(2):\n",
        "    qml.Hadamard(wires = i)\n",
        "\n",
        "  for gamma, beta in zip(gammas, betas):\n",
        "    exp(H, gamma)\n",
        "    mixer(beta, wires = [0,1])\n",
        "\n",
        "  return qml.probs(wires = [0,1])\n",
        "\n",
        "output = qaoa(H, gammas, betas)\n",
        "plt.bar(range(len(output)), output)\n"
      ],
      "metadata": {
        "colab": {
          "base_uri": "https://localhost:8080/",
          "height": 447
        },
        "id": "O7jwWIOOgb-B",
        "outputId": "2a8c49a2-912f-4445-e189-9b96032dd934"
      },
      "execution_count": null,
      "outputs": [
        {
          "output_type": "execute_result",
          "data": {
            "text/plain": [
              "<BarContainer object of 4 artists>"
            ]
          },
          "metadata": {},
          "execution_count": 2
        },
        {
          "output_type": "display_data",
          "data": {
            "text/plain": [
              "<Figure size 640x480 with 1 Axes>"
            ],
            "image/png": "[encoded data removed]"
          },
          "metadata": {}
        }
      ]
    },
    {
      "cell_type": "markdown",
      "source": [
        "Now we have to train the gamma and beta parameters to improve the solution."
      ],
      "metadata": {
        "id": "TMdhF6gujHuv"
      }
    },
    {
      "cell_type": "code",
      "source": [
        "def value_solution(params):\n",
        "\n",
        "  gammas = params[0:2]\n",
        "  betas = params[2:]\n",
        "\n",
        "  @qml.qnode(dev)\n",
        "  def qaoa(H, gammas, betas):\n",
        "\n",
        "    for i in range(2):\n",
        "      qml.Hadamard(wires = i)\n",
        "\n",
        "    for gamma, beta in zip(gammas, betas):\n",
        "      exp(H, gamma)\n",
        "      mixer(beta, wires = [0,1])\n",
        "\n",
        "    return qml.expval(H)\n",
        "\n",
        "  return qaoa(H, gammas, betas)\n",
        "\n"
      ],
      "metadata": {
        "id": "892rzsF5i4sw"
      },
      "execution_count": null,
      "outputs": []
    },
    {
      "cell_type": "code",
      "source": [
        "from scipy.optimize import minimize\n",
        "\n",
        "def cost(params):\n",
        "  return -value_solution(params)\n",
        "\n",
        "params = [*gammas, *betas]\n",
        "sol = minimize(cost, params, method = \"COBYLA\")\n",
        "optimal_params = sol.x"
      ],
      "metadata": {
        "id": "rAW2k9zmj1vh"
      },
      "execution_count": null,
      "outputs": []
    },
    {
      "cell_type": "code",
      "source": [
        "output = qaoa(H, optimal_params[:2], optimal_params[2:])\n",
        "plt.bar(range(len(output)), output)"
      ],
      "metadata": {
        "colab": {
          "base_uri": "https://localhost:8080/",
          "height": 447
        },
        "id": "EZxvlH5tkIRE",
        "outputId": "ce591a6a-8bcc-4e8a-b7ea-486e9df4042e"
      },
      "execution_count": null,
      "outputs": [
        {
          "output_type": "execute_result",
          "data": {
            "text/plain": [
              "<BarContainer object of 4 artists>"
            ]
          },
          "metadata": {},
          "execution_count": 5
        },
        {
          "output_type": "display_data",
          "data": {
            "text/plain": [
              "<Figure size 640x480 with 1 Axes>"
            ],
            "image/png": "[encoded data removed]"
          },
          "metadata": {}
        }
      ]
    },
    {
      "cell_type": "markdown",
      "source": [
        "**Exercise 2** (advanced)\n",
        "\n",
        "A technique to speed up the training is not to start with all the layers of the QAOA initially. The idea will be to start by training a first layer, then add the next layer and start training the new parameters. By repeating this process successively the trainings are usually faster but also more accurate. Look for the maximum energy of the Hamiltonian:\n",
        "\n",
        "```python\n",
        "H = qml.PauliZ(1) - 0.3 * qml.PauliZ(2) @ qml.PauliZ(3) + 0.4 * qml.PauliZ(0) @ qml.PauliZ(3) + qml.PauliZ(4) - 0.3 qml.PauliZ(3) @ qml.PauliZ(4)\n",
        "```\n",
        "\n",
        "using this technique.\n",
        "\n"
      ],
      "metadata": {
        "id": "vVp5IhIrmult"
      }
    },
    {
      "cell_type": "markdown",
      "source": [
        "## First Solution\n",
        "\n",
        "**Note**: This is a robust solution.  It correctly initializes parameters for each layer, and iterates correctly, updating the parameters for each layer during the layer-wise training."
      ],
      "metadata": {
        "id": "MOYkki3ALmOK"
      }
    },
    {
      "cell_type": "code",
      "source": [
        "import pennylane as qml\n",
        "import matplotlib.pyplot as plt\n",
        "from scipy.optimize import minimize\n",
        "import numpy as np\n",
        "\n",
        "# Nuevo Hamiltoniano\n",
        "H = (\n",
        "    qml.PauliZ(1)\n",
        "    - 0.3 * qml.PauliZ(2) @ qml.PauliZ(3)\n",
        "    + 0.4 * qml.PauliZ(0) @ qml.PauliZ(3)\n",
        "    + qml.PauliZ(4)\n",
        "    - 0.3 * qml.PauliZ(3) @ qml.PauliZ(4)\n",
        ")"
      ],
      "metadata": {
        "id": "WrvO1shnLakK"
      },
      "execution_count": null,
      "outputs": []
    },
    {
      "cell_type": "code",
      "source": [
        "def exp(H, gamma):\n",
        "    qml.ApproxTimeEvolution(H, gamma, n=1)\n",
        "\n",
        "def mixer(beta, wires):\n",
        "    for i in wires:\n",
        "        qml.RX(2 * beta, wires=i)\n"
      ],
      "metadata": {
        "id": "YL42sXX6Lcta"
      },
      "execution_count": null,
      "outputs": []
    },
    {
      "cell_type": "code",
      "source": [
        "wires = list(range(5))\n",
        "dev = qml.device(\"default.qubit\", wires=wires)\n",
        "\n",
        "def qaoa_circuit(H, gammas, betas):\n",
        "    @qml.qnode(dev)\n",
        "    def circuit():\n",
        "        for i in wires:\n",
        "            qml.Hadamard(wires=i)\n",
        "        for gamma, beta in zip(gammas, betas):\n",
        "            exp(H, gamma)\n",
        "            mixer(beta, wires)\n",
        "        return qml.expval(H)\n",
        "    return circuit()\n"
      ],
      "metadata": {
        "id": "YX_0w__WLfiZ"
      },
      "execution_count": null,
      "outputs": []
    },
    {
      "cell_type": "code",
      "source": [
        "def layerwise_qaoa(H, max_layers):\n",
        "    params = []\n",
        "\n",
        "    for p in range(1, max_layers + 1):\n",
        "        if p == 1:\n",
        "            init_params = np.random.uniform(0, np.pi, size=2)\n",
        "        else:\n",
        "            # Inicializa con los valores anteriores más uno nuevo\n",
        "            init_params = np.append(params, np.random.uniform(0, np.pi, size=2))\n",
        "\n",
        "        def cost(packed_params):\n",
        "            gammas = packed_params[:p]\n",
        "            betas = packed_params[p:]\n",
        "            return -qaoa_circuit(H, gammas, betas)\n",
        "\n",
        "        opt = minimize(cost, init_params, method=\"COBYLA\")\n",
        "        params = opt.x\n",
        "\n",
        "        energy = qaoa_circuit(H, params[:p], params[p:])\n",
        "        print(f\"Capa {p}: energía máxima aproximada = {energy:.5f}\")\n",
        "\n",
        "    return params\n"
      ],
      "metadata": {
        "id": "DnxxAgFoLieD"
      },
      "execution_count": null,
      "outputs": []
    },
    {
      "cell_type": "code",
      "source": [
        "optimal_params = layerwise_qaoa(H, max_layers=3)\n"
      ],
      "metadata": {
        "colab": {
          "base_uri": "https://localhost:8080/"
        },
        "id": "KuGhSWgSLkii",
        "outputId": "d9b5aba7-54ca-40ff-b33b-7e270f25d062"
      },
      "execution_count": null,
      "outputs": [
        {
          "output_type": "stream",
          "name": "stdout",
          "text": [
            "Capa 1: energía máxima aproximada = 2.02205\n",
            "Capa 2: energía máxima aproximada = 2.07336\n",
            "Capa 3: energía máxima aproximada = 1.95564\n"
          ]
        }
      ]
    },
    {
      "cell_type": "markdown",
      "source": [
        "## Second Solution\n",
        "\n",
        "This code is the most accurate and well-structured among the three.  It follows the layer-wise training approach correctly and demonstrates a deeper understanding of the problem. It initializes correctly, optimizes parameters layer by layer, and then evaluates the results.  It also includes a visualization of the probabilities of different final states.\n",
        "\n",
        "This solution provides the most accurate and well-structured approach to the problem."
      ],
      "metadata": {
        "id": "0i55j-TgM369"
      }
    },
    {
      "cell_type": "code",
      "source": [
        "import pennylane as qml\n",
        "import matplotlib.pyplot as plt\n",
        "from scipy.optimize import minimize\n",
        "\n",
        "# Define the Hamiltonian\n",
        "H = qml.PauliZ(1) - 0.3 * qml.PauliZ(2) @ qml.PauliZ(3) + 0.4 * qml.PauliZ(0) @ qml.PauliZ(3) + qml.PauliZ(4) - 0.3 * qml.PauliZ(3) @ qml.PauliZ(4)\n",
        "\n",
        "def exp(H, gamma):\n",
        "    qml.ApproxTimeEvolution(H, gamma, n=1)\n",
        "\n",
        "def mixer(beta, wires):\n",
        "    for w in wires:\n",
        "        qml.RX(2 * beta, wires=w)\n",
        "\n",
        "# Setup the device\n",
        "num_qubits = 5\n",
        "dev = qml.device(\"default.qubit\", wires=num_qubits)\n",
        "\n",
        "def value_solution(params):\n",
        "    p = len(params) // 2\n",
        "    gammas = params[:p]\n",
        "    betas = params[p:]\n",
        "\n",
        "    @qml.qnode(dev)\n",
        "    def qaoa_circuit():\n",
        "        # Apply Hadamard to all qubits\n",
        "        for i in range(num_qubits):\n",
        "            qml.Hadamard(wires=i)\n",
        "\n",
        "        # Apply each layer\n",
        "        for gamma, beta in zip(gammas, betas):\n",
        "            exp(H, gamma)\n",
        "            mixer(beta, wires=range(num_qubits))\n",
        "\n",
        "        return qml.expval(H)\n",
        "\n",
        "    return qaoa_circuit()\n",
        "\n",
        "def cost(params):\n",
        "    return -value_solution(params)\n",
        "\n",
        "# Layer-wise training\n",
        "max_layers = 3\n",
        "optimal_params = None\n",
        "\n",
        "for p in range(1, max_layers + 1):\n",
        "    print(f\"Training with p = {p} layers\")\n",
        "\n",
        "    # Initialize parameters\n",
        "    if optimal_params is None:\n",
        "        # Starting with p=1 layer, initial parameters\n",
        "        initial_params = [0.3, 0.2]  # gamma1, beta1\n",
        "    else:\n",
        "        # Append new gamma and beta for the new layer\n",
        "        initial_params = optimal_params.tolist() + [0.1, 0.1]  # Example initialization\n",
        "\n",
        "    # Optimize\n",
        "    sol = minimize(cost, initial_params, method=\"COBYLA\")\n",
        "    optimal_params = sol.x\n",
        "\n",
        "    print(f\"Optimal parameters for p={p}: {optimal_params}\")\n",
        "    print(f\"Maximum energy found: {-sol.fun}\\n\")\n",
        "\n",
        "# After training, get the probabilities with the optimal parameters\n",
        "@qml.qnode(dev)\n",
        "def qaoa_probabilities(params):\n",
        "    p = len(params) // 2\n",
        "    gammas = params[:p]\n",
        "    betas = params[p:]\n",
        "\n",
        "    for i in range(num_qubits):\n",
        "        qml.Hadamard(wires=i)\n",
        "\n",
        "    for gamma, beta in zip(gammas, betas):\n",
        "        exp(H, gamma)\n",
        "        mixer(beta, wires=range(num_qubits))\n",
        "\n",
        "    return qml.probs(wires=range(num_qubits))\n",
        "\n",
        "probs = qaoa_probabilities(optimal_params)\n",
        "\n",
        "# Plot the probabilities\n",
        "plt.bar(range(len(probs)), probs)\n",
        "plt.xlabel('State')\n",
        "plt.ylabel('Probability')\n",
        "plt.title('Probabilities of States after QAOA')\n",
        "plt.show()\n",
        "\n",
        "# Print the maximum energy\n",
        "print(\"Maximum energy achieved:\", -cost(optimal_params))"
      ],
      "metadata": {
        "colab": {
          "base_uri": "https://localhost:8080/",
          "height": 698
        },
        "id": "Mf-iRtewM6LU",
        "outputId": "2819a765-720b-4614-93ab-3a05259ba59e"
      },
      "execution_count": null,
      "outputs": [
        {
          "output_type": "stream",
          "name": "stdout",
          "text": [
            "Training with p = 1 layers\n",
            "Optimal parameters for p=1: [0.76440525 0.62482653]\n",
            "Maximum energy found: 2.0220469218303396\n",
            "\n",
            "Training with p = 2 layers\n",
            "Optimal parameters for p=2: [0.35854305 0.89985559 0.89818807 0.44292978]\n",
            "Maximum energy found: 2.280575939518346\n",
            "\n",
            "Training with p = 3 layers\n",
            "Optimal parameters for p=3: [0.47291721 0.95832285 1.47888652 0.93412903 0.54020918 0.23997275]\n",
            "Maximum energy found: 2.5170163890501893\n",
            "\n"
          ]
        },
        {
          "output_type": "display_data",
          "data": {
            "text/plain": [
              "<Figure size 640x480 with 1 Axes>"
            ],
            "image/png": "[encoded data removed]"
          },
          "metadata": {}
        },
        {
          "output_type": "stream",
          "name": "stdout",
          "text": [
            "Maximum energy achieved: 2.5170163890501893\n"
          ]
        }
      ]
    }
  ]
}