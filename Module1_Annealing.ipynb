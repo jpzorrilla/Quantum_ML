{
  "nbformat": 4,
  "nbformat_minor": 0,
  "metadata": {
    "colab": {
      "provenance": []
    },
    "kernelspec": {
      "name": "python3",
      "display_name": "Python 3"
    },
    "language_info": {
      "name": "python"
    }
  },
  "cells": [
    {
      "cell_type": "code",
      "execution_count": null,
      "metadata": {
        "id": "Ykm4Qhu8l_Uu"
      },
      "outputs": [],
      "source": [
        "!pip install qubovert > h"
      ]
    },
    {
      "cell_type": "markdown",
      "source": [
        "**Exercise 1**\n",
        "\n",
        "The famous $N$ queens problem consists of placing $N$ queens on a $N \\times N$ chessboard in such a way that none of them attacks any other. Model in QUBO the problem using `qubovert` and solve it for the case $N=8$.\n",
        "\n",
        "**Solution**"
      ],
      "metadata": {
        "id": "Z99pWtsGnmTJ"
      }
    },
    {
      "cell_type": "code",
      "source": [
        "import qubovert\n",
        "\n",
        "size = 8\n",
        "lagrange = 1\n",
        "\n",
        "# We create the variables of our model\n",
        "Q = qubovert.QUBO()\n",
        "for i in range(size):\n",
        "    for j in range(size):\n",
        "        Q.create_var(f\"x_{i}_{j}\")\n",
        "\n",
        "# We add the first block of the objective function\n",
        "for i in range(size):\n",
        "    for j in range(size):\n",
        "        Q[(f\"x_{i}_{j}\",)] = -1\n",
        "\n",
        "# We include the final restrictions\n",
        "for i1 in range(size):\n",
        "    for i2 in range(size):\n",
        "        for i3 in range(size):\n",
        "            for i4 in range(size):\n",
        "                if i1 == i3 or i2 == i4 or i1 - i3 == i2 - i4 or i1 - i3 == i4 - i2:\n",
        "                    if not (i1 == i3 and i2 == i4):\n",
        "                        Q[(f\"x_{i1}_{i2}\", f\"x_{i3}_{i4}\")] = lagrange"
      ],
      "metadata": {
        "id": "UVPh5eIOmJ-o"
      },
      "execution_count": null,
      "outputs": []
    },
    {
      "cell_type": "markdown",
      "source": [
        "Let's solve using the `qubovert` annealer and plot the results."
      ],
      "metadata": {
        "id": "lOOXvOkKneH7"
      }
    },
    {
      "cell_type": "code",
      "source": [
        "anneal_res = qubovert.sim.anneal_pubo(Q, num_anneals= 100)\n",
        "for i in range(size):\n",
        "    for j in range(size):\n",
        "        if anneal_res.best.state[f\"x_{i}_{j}\"] == 0:\n",
        "            print(\"O\", end = \" \")\n",
        "        else:\n",
        "            print(\"X\", end = \" \")\n",
        "    print()"
      ],
      "metadata": {
        "colab": {
          "base_uri": "https://localhost:8080/"
        },
        "id": "H9hDBBKfmqI7",
        "outputId": "2772aab1-3141-4901-e5d9-f836e03ba174"
      },
      "execution_count": null,
      "outputs": [
        {
          "output_type": "stream",
          "name": "stdout",
          "text": [
            "O O O O O O X O \n",
            "O X O O O O O O \n",
            "O O O O O X O O \n",
            "O O X O O O O O \n",
            "X O O O O O O O \n",
            "O O O X O O O O \n",
            "O O O O O O O X \n",
            "O O O O X O O O \n"
          ]
        },
        {
          "output_type": "stream",
          "name": "stderr",
          "text": [
            "/usr/local/lib/python3.11/dist-packages/qubovert/sim/_anneal.py:603: QUBOVertWarning: The input problem has degree <= 2; consider using the ``qubovert.sim.anneal_qubo`` or ``qubovert.sim.anneal_quso`` functions, which are significantly faster than this function because they take advantage of the low degree.\n",
            "  return anneal_puso(\n"
          ]
        }
      ]
    },
    {
      "cell_type": "markdown",
      "source": [
        "**Exercise 2**\n",
        "\n",
        "The knapsack problem states that we have a number of objects with an associated value and weight (in kg).\n",
        "\n",
        "```python\n",
        "value = [1,4,2,2,5,2]\n",
        "weight = [1,3,3,3,2,2]\n",
        "```\n",
        "\n",
        "You are given a maximum $L$ weight that you can support. Say in this case:\n",
        "\n",
        "```python\n",
        "L = 7\n",
        "```\n",
        "\n",
        "Your goal will be to create a QUBO problem that determines which objects we should take to maximize the value but not exceed the weight.\n",
        "Use `qubovert` to find the solution."
      ],
      "metadata": {
        "id": "W4j3-oG9n_af"
      }
    },
    {
      "cell_type": "code",
      "source": [
        "import qubovert\n",
        "\n",
        "value = [1,4,2,2,5,2]\n",
        "weight = [1,3,3,3,2,2]\n",
        "L = 7\n",
        "\n",
        "# create QUBO model\n",
        "Q = qubovert.QUBO()\n",
        "for i in range(len(value)):\n",
        "    Q.create_var(f\"x_{i}\")\n",
        "\n",
        "# maximize value\n",
        "for i in range(len(value)):\n",
        "    Q[(f\"x_{i}\",)] = -value[i]\n",
        "\n",
        "# constraint: weight <= L\n",
        "lagrange = 10\n",
        "for i in range(len(weight)):\n",
        "    for j in range(i+1, len(weight)):\n",
        "        Q[(f\"x_{i}\",f\"x_{j}\")] = lagrange * weight[i]*weight[j]\n",
        "\n",
        "for i in range(len(weight)):\n",
        "    Q[(f\"x_{i}\",)] += lagrange * weight[i]**2 - lagrange * L * weight[i]\n",
        "\n",
        "# solve the model\n",
        "anneal_res = qubovert.sim.anneal_pubo(Q, num_anneals=100)\n",
        "\n",
        "# extract the solution\n",
        "solution = {}\n",
        "total_value = 0\n",
        "total_weight = 0\n",
        "for i in range(len(value)):\n",
        "  solution[i] = anneal_res.best.state[f\"x_{i}\"]\n",
        "  if solution[i] == 1:\n",
        "    total_value += value[i]\n",
        "    total_weight += weight[i]\n",
        "\n",
        "print(\"Solution:\", solution)\n",
        "print(\"Total Value\", total_value)\n",
        "print(\"Total Weight\", total_weight)\n"
      ],
      "metadata": {
        "id": "7cNrLIYob6Ob",
        "colab": {
          "base_uri": "https://localhost:8080/"
        },
        "outputId": "1eba5de9-c4ab-466a-b1f4-9e773a36805c"
      },
      "execution_count": null,
      "outputs": [
        {
          "output_type": "stream",
          "name": "stdout",
          "text": [
            "Solution: {0: 1, 1: 0, 2: 0, 3: 0, 4: 1, 5: 1}\n",
            "Total Value 8\n",
            "Total Weight 5\n"
          ]
        }
      ]
    }
  ]
}