{
  "nbformat": 4,
  "nbformat_minor": 0,
  "metadata": {
    "colab": {
      "provenance": []
    },
    "kernelspec": {
      "name": "python3",
      "display_name": "Python 3"
    },
    "language_info": {
      "name": "python"
    }
  },
  "cells": [
    {
      "cell_type": "code",
      "execution_count": null,
      "metadata": {
        "id": "J4KG4V7HqR9Y"
      },
      "outputs": [],
      "source": [
        "!pip install qubovert > h\n",
        "!pip install pennylane > h"
      ]
    },
    {
      "cell_type": "markdown",
      "source": [
        "**Exercise 1**.\n",
        "\n",
        "We want to organise an event where we would like 6 prestigious companies to come: *e1*, ..., *e6*. However, the industry is very competitive and there is some friction between these companies:\n",
        "\n",
        "- If we invite company *e3*, *e4* will not come.\n",
        "- If we invite company *e1*, then *e2* and *e3* will not come.\n",
        "- If we invite company *e2* then neither *e1* nor *e6* will come.\n",
        "\n",
        "\n",
        "The objective is to decide which companies we invite to maximise the number of companies going to the event.\n",
        "Model this problem to solve it on a quantum computer. Use COBYLA to optimise the solution.\n"
      ],
      "metadata": {
        "id": "uYzHOhj3uSZA"
      }
    },
    {
      "cell_type": "markdown",
      "source": [
        "**Solution 1**\n",
        "\n",
        "\n",
        "Let $x_i = 1$ if we invite the i-th company and $x_i = 0$ otherwise.\n",
        "We are looking to maximise:\n",
        "\n",
        "$$\\sum_i x_i$$.\n",
        "\n",
        "But we have to subtract the attendance of the companies based on the relationships between them:\n",
        "\n",
        "If $x3 = 1$ and $x4 = 1$ we have to subtract 1 from the attendance and do nothing otherwise. This can be modeled as $-x3 x4$."
      ],
      "metadata": {
        "id": "B8f6uS-Fv8Ph"
      }
    },
    {
      "cell_type": "code",
      "source": [
        "import qubovert\n",
        "\n",
        "qubo = qubovert.QUBO()\n",
        "\n",
        "for i in range(1,7):\n",
        "  qubo.create_var(f\"e{i}\")\n",
        "\n",
        "for i in range(1, 7):\n",
        "  qubo[(f\"e{i}\",)] = 1\n",
        "\n",
        "qubo[(f\"e{3}\", f\"e{4}\")] = -1\n",
        "\n",
        "qubo[(f\"e{1}\", f\"e{2}\")] = -2\n",
        "qubo[(f\"e{1}\", f\"e{3}\")] = -1\n",
        "\n",
        "qubo[(f\"e{2}\", f\"e{6}\")] = -1\n",
        "\n",
        "ising = qubo.to_quso()\n",
        "print(\"ising\", ising)"
      ],
      "metadata": {
        "colab": {
          "base_uri": "https://localhost:8080/"
        },
        "id": "UEmEXgb2v6Jy",
        "outputId": "d6cedbf7-4ae5-4fd1-9a0e-63166526863f"
      },
      "execution_count": null,
      "outputs": [
        {
          "output_type": "stream",
          "name": "stdout",
          "text": [
            "ising {(): 1.75, (3,): -0.25, (4,): -0.5, (5,): -0.25, (2, 3): -0.25, (0, 1): -0.5, (0, 2): -0.25, (0,): 0.25, (1, 5): -0.25, (1,): 0.25}\n"
          ]
        }
      ]
    },
    {
      "cell_type": "code",
      "source": [
        "import pennylane as qml\n",
        "\n",
        "def create_hamiltonian(ising):\n",
        "  coeffs = []\n",
        "  ops = []\n",
        "\n",
        "  for term in ising:\n",
        "    if len(term) == 0:\n",
        "      ops.append(qml.Identity(0))\n",
        "    elif len(term) == 1:\n",
        "      ops.append(qml.PauliZ(term[0]))\n",
        "    else:\n",
        "      ops.append(qml.PauliZ(term[0]) @ qml.PauliZ(term[1]))\n",
        "    coeffs.append(ising[term])\n",
        "\n",
        "  return qml.Hamiltonian(coeffs, ops)\n",
        "\n",
        "H = create_hamiltonian(ising)"
      ],
      "metadata": {
        "id": "xOEZr3BFzuhc"
      },
      "execution_count": null,
      "outputs": []
    },
    {
      "cell_type": "code",
      "source": [
        "import numpy as np\n",
        "\n",
        "dev = qml.device(\"default.qubit\", wires = 6)\n",
        "\n",
        "@qml.qnode(dev)\n",
        "def circuit(params):\n",
        "  for i in range(6):\n",
        "    qml.RY(params[i], wires = i)\n",
        "  for i in range(5):\n",
        "    qml.CNOT(wires = [i, i+1])\n",
        "  return qml.expval(H)\n",
        "\n",
        "params = np.random.rand(6)\n",
        "circuit(params)\n",
        "\n"
      ],
      "metadata": {
        "colab": {
          "base_uri": "https://localhost:8080/"
        },
        "id": "aPgGLw3F0TH2",
        "outputId": "17f2ffb2-da3e-4337-d82f-1a51ef351100"
      },
      "execution_count": null,
      "outputs": [
        {
          "output_type": "execute_result",
          "data": {
            "text/plain": [
              "array(62.78701837)"
            ]
          },
          "metadata": {},
          "execution_count": 9
        }
      ]
    },
    {
      "cell_type": "code",
      "source": [
        "from scipy.optimize import minimize\n",
        "\n",
        "def cost(params):\n",
        "  return -circuit(params)\n",
        "\n",
        "sol = minimize(cost, params, method = \"COBYLA\")\n",
        "optimal_params = sol.x\n"
      ],
      "metadata": {
        "id": "ORswWGce1JUZ"
      },
      "execution_count": null,
      "outputs": []
    },
    {
      "cell_type": "code",
      "source": [
        "dev = qml.device(\"default.qubit\", wires = 6, shots = 1)\n",
        "\n",
        "@qml.qnode(dev)\n",
        "def circuit_sample(params):\n",
        "  for i in range(6):\n",
        "    qml.RY(params[i], wires = i)\n",
        "  for i in range(5):\n",
        "    qml.CNOT(wires = [i, i+1])\n",
        "  return qml.sample(wires = range(6))\n",
        "\n",
        "print(\"assistants: \", np.round(circuit(optimal_params)))\n",
        "print(\"invitations:\", circuit_sample(optimal_params))"
      ],
      "metadata": {
        "colab": {
          "base_uri": "https://localhost:8080/"
        },
        "id": "JpnU2RrP1aKm",
        "outputId": "c8b159b4-c30b-46cf-d593-7fd5b8c9d422"
      },
      "execution_count": null,
      "outputs": [
        {
          "output_type": "stream",
          "name": "stdout",
          "text": [
            "assistants:  400.0\n",
            "invitations: [0 0 1 0 1 1]\n"
          ]
        }
      ]
    },
    {
      "cell_type": "code",
      "source": [],
      "metadata": {
        "id": "rr5DlBXv14St"
      },
      "execution_count": null,
      "outputs": []
    },
    {
      "cell_type": "markdown",
      "source": [
        "**Exercise 2**.\n",
        "\n",
        "Continuing with the previous problem, we know that if we invite the first company, $100$ attendees will come to meet them, if the second company comes, $150$, and the others $120$, $80$, $80$ and $200$ respectively. Your goal will be to replicate the previous exercise but now maximising the number of attendees instead of companies."
      ],
      "metadata": {
        "id": "AqeN1-sY1euD"
      }
    },
    {
      "cell_type": "code",
      "source": [
        "# We are looking to maximise:\n",
        "# $$\\sum_i a_i x_i$$\n",
        "# where $a_i$ is the number of attendees for company $i$.\n",
        "\n",
        "qubo = qubovert.QUBO()\n",
        "\n",
        "attendees = [100, 150, 120, 80, 80, 200]\n",
        "\n",
        "for i in range(6):\n",
        "  qubo.create_var(f\"e{i+1}\")\n",
        "\n",
        "for i in range(6):\n",
        "  qubo[(f\"e{i+1}\",)] = attendees[i]\n",
        "\n",
        "qubo[(f\"e3\", f\"e4\")] = -attendees[2] - attendees[3]  # Correct penalty\n",
        "\n",
        "qubo[(f\"e1\", f\"e2\")] = -attendees[0] - attendees[1]\n",
        "qubo[(f\"e1\", f\"e3\")] = -attendees[0] - attendees[2]\n",
        "\n",
        "qubo[(f\"e2\", f\"e6\")] = -attendees[1] - attendees[5]\n",
        "\n",
        "\n",
        "ising = qubo.to_quso()\n",
        "print(\"ising\", ising)\n",
        "\n",
        "# ... (rest of the code remains the same)\n"
      ],
      "metadata": {
        "id": "tspt8CNZ5A0w",
        "colab": {
          "base_uri": "https://localhost:8080/"
        },
        "outputId": "1e067d38-f65d-4d4c-f9ea-5f23b87b1652"
      },
      "execution_count": null,
      "outputs": [
        {
          "output_type": "stream",
          "name": "stdout",
          "text": [
            "ising {(0,): 67.5, (): 110.0, (1,): 75.0, (2,): 45.0, (3,): 10.0, (4,): -40.0, (5,): -12.5, (2, 3): -50.0, (0, 1): -62.5, (0, 2): -55.0, (1, 5): -87.5}\n"
          ]
        }
      ]
    }
  ]
}