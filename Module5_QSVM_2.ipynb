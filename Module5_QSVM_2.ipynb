{
  "nbformat": 4,
  "nbformat_minor": 0,
  "metadata": {
    "colab": {
      "provenance": []
    },
    "kernelspec": {
      "name": "python3",
      "display_name": "Python 3"
    },
    "language_info": {
      "name": "python"
    }
  },
  "cells": [
    {
      "cell_type": "code",
      "execution_count": null,
      "metadata": {
        "id": "1Qy7eKtruCPU"
      },
      "outputs": [],
      "source": [
        "!pip install pennylane > h"
      ]
    },
    {
      "cell_type": "markdown",
      "source": [
        "**Exercise 1:**\n",
        "\n",
        "The goal of this exercise will be to calculate the kernel function $K(\\vec{x_i}, \\vec{x_j})$ where the inputs $\\vec{x}$ will be vectors of dimension 2 and the feature map will be the ZZ Feature map :\n",
        "```python\n",
        "def feature_map(x):\n",
        "    \n",
        "    # ZZMap\n",
        "    for i in range(2):\n",
        "        qml.Hadamard(wires = i)\n",
        "\n",
        "\n",
        "    qml.RZ(2*x[0], wires = 0)\n",
        "    qml.RZ(2*x[1], wires = 1)\n",
        "    qml.CNOT(wires = [0,1])\n",
        "    qml.RZ(2*(np.pi - x[0])*(np.pi - x[1]), wires = 1)\n",
        "    qml.CNOT(wires = [0,1])\n",
        "    \n",
        "```\n",
        "\n",
        "To do this, you are asked to use the Hadamard test."
      ],
      "metadata": {
        "id": "5NQ30r1ZuF3l"
      }
    },
    {
      "cell_type": "markdown",
      "source": [
        "**Solution 1:**\n",
        "\n",
        "Using our feature map we can generate $F(\\vec{x})|0\\rangle$. Our goal is to calculate $\\mathcal{Re}(\\langle 0 | F(\\vec{x_i})^{\\dagger} F(\\vec{x_j}) | 0 \\rangle)$. This is equivalent to applying the Hadamard Test on the operator $U:= F(\\vec{x_i})^{\\dagger} F(\\vec{x_j})$"
      ],
      "metadata": {
        "id": "tzNsFEhpuKvT"
      }
    },
    {
      "cell_type": "code",
      "source": [
        "#@title\n",
        "\n",
        "import pennylane as qml\n",
        "import numpy as np\n",
        "\n",
        "x_i = [1., 2.]\n",
        "x_j = [1., -3.]\n",
        "\n",
        "def feature_map(x, wires):\n",
        "\n",
        "    # ZZMap\n",
        "    for i in range(2):\n",
        "        qml.Hadamard(wires = wires[i])\n",
        "\n",
        "\n",
        "    qml.RZ(2*x[0], wires = wires[0])\n",
        "    qml.RZ(2*x[1], wires = wires[1])\n",
        "    qml.CNOT(wires = wires)\n",
        "    qml.RZ(2*(np.pi - x[0])*(np.pi - x[1]), wires = wires[1])\n",
        "    qml.CNOT(wires = wires)\n",
        "\n",
        "\n",
        "def U(x_i, x_j, wires):\n",
        "\n",
        "    feature_map(x_j, wires)\n",
        "    qml.adjoint(feature_map)(x_i, wires)\n",
        "\n",
        "\n",
        "dev = qml.device(\"default.qubit\", wires = 3)\n",
        "\n",
        "@qml.qnode(dev)\n",
        "def circuit(x_i, x_j):\n",
        "\n",
        "    qml.Hadamard(wires = 0)\n",
        "\n",
        "    qml.ctrl(U, control = 0)(x_i, x_j, [1,2])\n",
        "\n",
        "    qml.Hadamard(wires = 0)\n",
        "\n",
        "    return qml.expval(qml.PauliZ(wires = 0))\n",
        "\n",
        "circuit(x_i, x_j)\n"
      ],
      "metadata": {
        "colab": {
          "base_uri": "https://localhost:8080/"
        },
        "id": "pCLqvY4IuLDB",
        "outputId": "d872a59f-0606-4e2f-e6a4-a25f80642c36",
        "collapsed": true
      },
      "execution_count": null,
      "outputs": [
        {
          "output_type": "execute_result",
          "data": {
            "text/plain": [
              "np.float64(-0.08046423546177384)"
            ]
          },
          "metadata": {},
          "execution_count": 2
        }
      ]
    },
    {
      "cell_type": "markdown",
      "source": [
        "**Exercise 2:**\n",
        "\n",
        "Using the `sklearn` library, integrate the kernel function in the `svm` to build a classifier for the following dataset:\n"
      ],
      "metadata": {
        "id": "i01-U0VEuXhC"
      }
    },
    {
      "cell_type": "code",
      "source": [
        "import numpy as np\n",
        "import matplotlib.pyplot as plt\n",
        "\n",
        "n_samples = 30 * 4\n",
        "\n",
        "A = np.array([[np.random.normal(loc=0), np.random.normal(loc=2)] for i in range(n_samples//4)])\n",
        "B = np.array([[np.random.normal(loc=2), np.random.normal(loc=-2)] for i in range(n_samples//4)])\n",
        "C = np.array([[np.random.normal(loc=2), np.random.normal(loc=2)] for i in range(n_samples//4)])\n",
        "D = np.array([[np.random.normal(loc=-2), np.random.normal(loc=-2)] for i in range(n_samples//4)])\n",
        "\n",
        "feature = np.concatenate([A, B, C, D], axis=0)/4\n",
        "label = np.concatenate([-np.ones(n_samples // 2), np.ones(n_samples//2)], axis=0)\n",
        "data = list(zip(feature, label))\n",
        "\n",
        "np.random.shuffle(data)\n",
        "print(len(data))\n",
        "\n",
        "plt.scatter(A[:,0], A[:,1], color=\"orange\", label=\"Class -1\")\n",
        "plt.scatter(B[:,0], B[:,1], color=\"orange\")\n",
        "plt.scatter(C[:,0], C[:,1], color=\"blue\", label=\"Class 1\")\n",
        "plt.scatter(D[:,0], D[:,1], color=\"blue\")\n",
        "plt.legend()\n",
        "plt.show()"
      ],
      "metadata": {
        "id": "XcRNK3MluYFh",
        "colab": {
          "base_uri": "https://localhost:8080/",
          "height": 447
        },
        "outputId": "0c23d118-9044-495f-d28b-a1d9e5a5de26"
      },
      "execution_count": null,
      "outputs": [
        {
          "output_type": "stream",
          "name": "stdout",
          "text": [
            "120\n"
          ]
        },
        {
          "output_type": "display_data",
          "data": {
            "text/plain": [
              "<Figure size 640x480 with 1 Axes>"
            ],
            "image/png": "[encoded data removed]"
          },
          "metadata": {}
        }
      ]
    },
    {
      "cell_type": "markdown",
      "source": [
        "**Solution 2:**\n",
        "\n",
        "Source: https://github.com/KetpuntoG/Notebooks-del-canal\n"
      ],
      "metadata": {
        "id": "VWrWoGiveUQi"
      }
    },
    {
      "cell_type": "code",
      "source": [
        "#@title\n",
        "\n",
        "import numpy as np\n",
        "\n",
        "percentage = 0.5\n",
        "m = int(percentage * n_samples)\n",
        "\n",
        "\n",
        "x_train = np.array([data[i][0] for i in range(m)])\n",
        "y_train = np.array([data[i][1] for i in range(m)])\n",
        "\n",
        "x_test = np.array([data[i][0] for i in range(m,n_samples)])\n",
        "y_test = np.array([data[i][1] for i in range(m,n_samples)])"
      ],
      "metadata": {
        "id": "0xAtTBiOeSbx"
      },
      "execution_count": null,
      "outputs": []
    },
    {
      "cell_type": "code",
      "source": [
        "#@title\n",
        "\n",
        "import pennylane as qml\n",
        "from pennylane import numpy as np\n",
        "import matplotlib.pyplot as plt\n",
        "from time import time\n",
        "from sklearn import svm\n",
        "import scipy\n",
        "\n",
        "\n",
        "\n",
        "def KernelMatrix(X1, X2):\n",
        "    print(\"Calculating kernel matrix...\")\n",
        "\n",
        "\n",
        "    gram_matrix = np.zeros((X1.shape[0], X2.shape[0]))\n",
        "    for i, x1 in enumerate(X1):\n",
        "        for j, x2 in enumerate(X2):\n",
        "\n",
        "            x1 = x1.flatten()\n",
        "            x2 = x2.flatten()\n",
        "\n",
        "            gram_matrix[i, j] = circuit(x1, x2)\n",
        "\n",
        "    return gram_matrix\n",
        "\n",
        "\n",
        "clf = svm.SVC(kernel=\"precomputed\")\n",
        "\n",
        "matrix = KernelMatrix(x_train,x_train)\n",
        "\n",
        "print(\"Training...\")\n",
        "clf.fit(matrix, y_train)\n",
        "\n",
        "#test\n",
        "print(\"Checking test...\")\n",
        "\n",
        "sol = clf.predict(KernelMatrix(x_test,x_train))\n",
        "\n",
        "success = 0\n",
        "for i in range(len(y_test)):\n",
        "    if sol[i] == y_test[i]:\n",
        "        success += 1\n",
        "\n",
        "print(\"Test accuracy: \", success/len(sol)*100, \"%\")"
      ],
      "metadata": {
        "colab": {
          "base_uri": "https://localhost:8080/"
        },
        "id": "hAcFxH2zeayT",
        "outputId": "5e00c825-95ee-46c1-8241-93822454eaf7",
        "collapsed": true
      },
      "execution_count": null,
      "outputs": [
        {
          "output_type": "stream",
          "name": "stdout",
          "text": [
            "Calculating kernel matrix...\n",
            "Training...\n",
            "Checking test...\n",
            "Calculating kernel matrix...\n",
            "Test accuracy:  78.33333333333333 %\n"
          ]
        }
      ]
    },
    {
      "cell_type": "code",
      "source": [
        "#@title\n",
        "\n",
        "print(\"prediction:\")\n",
        "\n",
        "for i in range(len(x_test)):\n",
        "    color = \"blue\"\n",
        "    if sol[i] == -1:\n",
        "        color = \"orange\"\n",
        "\n",
        "    plt.scatter(x_test[i,0], x_test[i,1], color = color)\n",
        "\n",
        "plt.show()\n",
        "\n",
        "print(\"real:\")\n",
        "for i in range(len(x_test)):\n",
        "    color = \"blue\"\n",
        "    if y_test[i] == -1:\n",
        "        color = \"orange\"\n",
        "\n",
        "    plt.scatter(x_test[i,0], x_test[i,1], color = color)\n",
        "\n",
        "plt.show()"
      ],
      "metadata": {
        "colab": {
          "base_uri": "https://localhost:8080/",
          "height": 878
        },
        "id": "VLNMcYb9e2vT",
        "outputId": "1130ed9e-585b-4072-8d6e-42d4aecc9f9d",
        "collapsed": true
      },
      "execution_count": null,
      "outputs": [
        {
          "output_type": "stream",
          "name": "stdout",
          "text": [
            "prediction:\n"
          ]
        },
        {
          "output_type": "display_data",
          "data": {
            "text/plain": [
              "<Figure size 640x480 with 1 Axes>"
            ],
            "image/png": "[encoded data removed]"
          },
          "metadata": {}
        },
        {
          "output_type": "stream",
          "name": "stdout",
          "text": [
            "real:\n"
          ]
        },
        {
          "output_type": "display_data",
          "data": {
            "text/plain": [
              "<Figure size 640x480 with 1 Axes>"
            ],
            "image/png": "[encoded data removed]"
          },
          "metadata": {}
        }
      ]
    }
  ]
}