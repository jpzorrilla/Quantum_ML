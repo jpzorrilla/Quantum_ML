{
  "nbformat": 4,
  "nbformat_minor": 0,
  "metadata": {
    "colab": {
      "provenance": []
    },
    "kernelspec": {
      "name": "python3",
      "display_name": "Python 3"
    },
    "language_info": {
      "name": "python"
    }
  },
  "cells": [
    {
      "cell_type": "code",
      "execution_count": null,
      "metadata": {
        "id": "b8kMvez3PmFh"
      },
      "outputs": [],
      "source": [
        "!pip install pennylane > h"
      ]
    },
    {
      "cell_type": "markdown",
      "source": [
        "**Exercise 1**\n",
        "\n",
        "A fundamental aspect of distance calculation in quantum computing is the computation of the overlap between two quantum states. Given two vectors, $\\vec{x_1}$ and $\\vec{x_2}$, normalised with two dimensions,\n",
        "calculate $|\\langle \\phi(\\vec{x_1})^{\\dagger} \\phi(\\vec{x_2})\\rangle|^2$ by applying the **SWAP test**. It is asked to use [`qml.AmplitudeEmbedding`](https://docs.pennylane.ai/en/stable/code/api/pennylane.AmplitudeEmbedding.html) as an embedding method.\n",
        "\n"
      ],
      "metadata": {
        "id": "A-7ZX26GP35c"
      }
    },
    {
      "cell_type": "markdown",
      "source": [
        "**Solution 1**"
      ],
      "metadata": {
        "id": "ZeYJvSZnSfjS"
      }
    },
    {
      "cell_type": "code",
      "source": [
        "#@title\n",
        "\n",
        "import pennylane as qml\n",
        "\n",
        "dev = qml.device(\"default.qubit\")\n",
        "\n",
        "@qml.qnode(dev)\n",
        "def swap_test(x_1, x_2):\n",
        "\n",
        "  qml.Hadamard(wires = 0)\n",
        "\n",
        "  qml.AmplitudeEmbedding(x_1, wires = 1)\n",
        "  qml.AmplitudeEmbedding(x_2, wires = 2)\n",
        "\n",
        "  qml.ctrl(qml.SWAP, control = 0)(wires = [1,2])\n",
        "\n",
        "  qml.Hadamard(wires = 0)\n",
        "\n",
        "  return qml.expval(qml.PauliZ(0))\n",
        "\n",
        "x_1 = [1.0, 0.0]\n",
        "x_2 = [0.5 ** 0.5, 0.5 ** 0.5]\n",
        "\n",
        "print(swap_test(x_1, x_2))"
      ],
      "metadata": {
        "colab": {
          "base_uri": "https://localhost:8080/"
        },
        "id": "ZJ_YGua5Q_Vb",
        "outputId": "fae25840-0d9c-4a87-e0e0-41a87e10c67e"
      },
      "execution_count": null,
      "outputs": [
        {
          "output_type": "stream",
          "name": "stdout",
          "text": [
            "0.49999999999999983\n"
          ]
        }
      ]
    },
    {
      "cell_type": "markdown",
      "source": [
        "**Exercise 2**\n",
        "\n",
        "Once the SWAP test is implemented, use the previous routine to calculate the euclidian distance between two vectors $\\vec{x_1}$ and $\\vec{x_2}$.\n"
      ],
      "metadata": {
        "id": "YmedEo8WShul"
      }
    },
    {
      "cell_type": "code",
      "source": [],
      "metadata": {
        "id": "6AF15dsYSyj5"
      },
      "execution_count": null,
      "outputs": []
    }
  ]
}